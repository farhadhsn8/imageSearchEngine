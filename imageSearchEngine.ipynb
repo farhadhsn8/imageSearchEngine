{
  "nbformat": 4,
  "nbformat_minor": 0,
  "metadata": {
    "colab": {
      "name": "imageSearchEngine.ipynb",
      "provenance": [],
      "collapsed_sections": []
    },
    "kernelspec": {
      "display_name": "Python 3",
      "name": "python3"
    },
    "language_info": {
      "name": "python"
    }
  },
  "cells": [
    {
      "cell_type": "code",
      "metadata": {
        "colab": {
          "base_uri": "https://localhost:8080/"
        },
        "id": "OSVxd-Tvl5it",
        "outputId": "de80b560-cd95-4a63-a9a7-e6dc68d478d4"
      },
      "source": [
        "!wget https://www.robots.ox.ac.uk/~vgg/data/oxbuildings/oxbuild_images.tgz"
      ],
      "execution_count": null,
      "outputs": [
        {
          "output_type": "stream",
          "text": [
            "--2021-06-08 13:17:54--  https://www.robots.ox.ac.uk/~vgg/data/oxbuildings/oxbuild_images.tgz\n",
            "Resolving www.robots.ox.ac.uk (www.robots.ox.ac.uk)... 129.67.94.2\n",
            "Connecting to www.robots.ox.ac.uk (www.robots.ox.ac.uk)|129.67.94.2|:443... connected.\n",
            "HTTP request sent, awaiting response... 200 OK\n",
            "Length: 1980280437 (1.8G) [application/x-gzip]\n",
            "Saving to: ‘oxbuild_images.tgz’\n",
            "\n",
            "oxbuild_images.tgz  100%[===================>]   1.84G  20.6MB/s    in 91s     \n",
            "\n",
            "2021-06-08 13:19:27 (20.7 MB/s) - ‘oxbuild_images.tgz’ saved [1980280437/1980280437]\n",
            "\n"
          ],
          "name": "stdout"
        }
      ]
    },
    {
      "cell_type": "code",
      "metadata": {
        "id": "FMgNKZudna_H"
      },
      "source": [
        "!tar -xvzf oxbuild_images.tgz"
      ],
      "execution_count": null,
      "outputs": []
    },
    {
      "cell_type": "code",
      "metadata": {
        "id": "SJespPcqwojt"
      },
      "source": [
        "! mkdir userImage"
      ],
      "execution_count": null,
      "outputs": []
    },
    {
      "cell_type": "code",
      "metadata": {
        "colab": {
          "base_uri": "https://localhost:8080/"
        },
        "id": "XBq4P8UNJBz0",
        "outputId": "9d124726-2863-4fd6-ea33-4d7e33bc33b4"
      },
      "source": [
        "pip install fastdist\n"
      ],
      "execution_count": null,
      "outputs": [
        {
          "output_type": "stream",
          "text": [
            "Collecting fastdist\n",
            "  Downloading https://files.pythonhosted.org/packages/72/c5/e3052c2240a413945b310be3bb6490204b643af4d628d3c76105749e6f42/fastdist-1.1.2-py3-none-any.whl\n",
            "Installing collected packages: fastdist\n",
            "Successfully installed fastdist-1.1.2\n"
          ],
          "name": "stdout"
        }
      ]
    },
    {
      "cell_type": "code",
      "metadata": {
        "id": "8emMMBVbLHnI"
      },
      "source": [
        "import cv2\n",
        "import os , glob\n",
        "import math\n",
        "from PIL import Image\n",
        "import numpy as np\n",
        "import matplotlib.pyplot as plt\n",
        "import scipy.spatial\n",
        "from fastdist import fastdist\n",
        "from IPython.display import Image as image1 , display\n",
        "from sklearn.manifold import MDS\n",
        "\n"
      ],
      "execution_count": null,
      "outputs": []
    },
    {
      "cell_type": "code",
      "metadata": {
        "id": "lQPhPAfAKMVR"
      },
      "source": [
        "def makeHistogram(image):\n",
        "    redHistogram, bin_edges = np.histogram(image[:,:,0], bins=256, range=(0,256),density=True)\n",
        "    greenHistogram, bin_edges = np.histogram(image[:,:,1], bins=256, range=(0,256),density=True)\n",
        "    blueHistogram , bin_edges = np.histogram(image[:,:,2], bins=256, range=(0,256),density=True)\n",
        "    histogram = np.hstack((redHistogram ,greenHistogram , blueHistogram ))\n",
        "    return histogram\n"
      ],
      "execution_count": null,
      "outputs": []
    },
    {
      "cell_type": "code",
      "metadata": {
        "colab": {
          "base_uri": "https://localhost:8080/"
        },
        "id": "YzsYjDpion3k",
        "outputId": "86475697-0652-444c-a31b-ed344db7b7e7"
      },
      "source": [
        "filenames = [img for img in glob.glob(\"*.jpg\")]\n",
        "\n",
        "filenames.sort() # ADD THIS LINE\n",
        "totalHistograms = []\n",
        "for img in filenames:\n",
        "    image= cv2.imread(img)\n",
        "    #--------------------make histogram-------------------------\n",
        "    histogram = makeHistogram(image)\n",
        "    totalHistograms.append(histogram)\n",
        "    # print (img)\n",
        "    \n",
        "len(filenames)"
      ],
      "execution_count": null,
      "outputs": [
        {
          "output_type": "execute_result",
          "data": {
            "text/plain": [
              "5063"
            ]
          },
          "metadata": {
            "tags": []
          },
          "execution_count": 7
        }
      ]
    },
    {
      "cell_type": "code",
      "metadata": {
        "colab": {
          "base_uri": "https://localhost:8080/"
        },
        "id": "MTMky1juWUNF",
        "outputId": "12a13841-b5df-433a-df44-13b2f15c2a77"
      },
      "source": [
        "totalHistograms = np.array(totalHistograms)\n",
        "histogram.shape\n",
        "totalHistograms.shape"
      ],
      "execution_count": null,
      "outputs": [
        {
          "output_type": "execute_result",
          "data": {
            "text/plain": [
              "(5063, 768)"
            ]
          },
          "metadata": {
            "tags": []
          },
          "execution_count": 8
        }
      ]
    },
    {
      "cell_type": "code",
      "metadata": {
        "id": "xD9FqrVy49wU"
      },
      "source": [
        "\n",
        "# def showImage(arr):\n",
        "#   img1 = np.flip(arr, 2)\n",
        "#   img = Image.fromarray(img1)\n",
        "#   img.save('my2.png')\n",
        "#   display(image1('my2.png'))\n",
        "\n",
        "# showImage(images[2])\n"
      ],
      "execution_count": null,
      "outputs": []
    },
    {
      "cell_type": "code",
      "metadata": {
        "id": "zvNsy6qF5H-k"
      },
      "source": [
        "\n"
      ],
      "execution_count": null,
      "outputs": []
    },
    {
      "cell_type": "code",
      "metadata": {
        "colab": {
          "base_uri": "https://localhost:8080/"
        },
        "id": "xtZ7uHHw8BKi",
        "outputId": "4ad30af0-6d50-4d55-8a48-f659d1389ec6"
      },
      "source": [
        "\n",
        "# totalHistograms = []\n",
        "# for image in images:\n",
        "#   redHistogram, bin_edges = np.histogram(image[:,:,0], bins=32, range=(0,256),density=True)\n",
        "#   greenHistogram, bin_edges = np.histogram(image[:,:,1], bins=32, range=(0,256),density=True)\n",
        "#   blueHistogram , bin_edges = np.histogram(image[:,:,2], bins=32, range=(0,256),density=True)\n",
        "#   histogram = np.hstack((redHistogram ,greenHistogram , blueHistogram ))\n",
        "#   totalHistograms.append(histogram)\n",
        "# totalHistograms = np.array(totalHistograms)\n",
        "# histogram.shape\n",
        "# totalHistograms.shape\n",
        "# # redHistogram"
      ],
      "execution_count": null,
      "outputs": [
        {
          "output_type": "execute_result",
          "data": {
            "text/plain": [
              "(1001, 96)"
            ]
          },
          "metadata": {
            "tags": []
          },
          "execution_count": 3
        }
      ]
    },
    {
      "cell_type": "code",
      "metadata": {
        "id": "9YANObHDZxyV"
      },
      "source": [
        "distanceMode = 0"
      ],
      "execution_count": null,
      "outputs": []
    },
    {
      "cell_type": "code",
      "metadata": {
        "id": "CU1yYOTrCCWh"
      },
      "source": [
        "DistanceMatrix = np.zeros((totalHistograms.shape[0], totalHistograms.shape[0]))\n",
        "\n",
        "def euclideanDistance(totalHistograms):\n",
        "  for i in range(totalHistograms.shape[0]):\n",
        "      for j in range(totalHistograms.shape[0]):\n",
        "        DistanceMatrix[i,j]=fastdist.euclidean(totalHistograms[i] , totalHistograms[j])\n",
        "        \n",
        "# euclideanDistance(totalHistograms)\n",
        "# euclideanDistanceMatrix.shape"
      ],
      "execution_count": null,
      "outputs": []
    },
    {
      "cell_type": "code",
      "metadata": {
        "id": "ZTJ_cVWpDONo"
      },
      "source": [
        "\n",
        "def cosineDistance(totalHistograms):\n",
        "  for i in range(totalHistograms.shape[0]):\n",
        "      for j in range(totalHistograms.shape[0]):\n",
        "        DistanceMatrix[i,j]= 1 - fastdist.cosine(totalHistograms[i],totalHistograms[j] )      \n",
        "\n",
        "# cosineDistance(totalHistograms)\n",
        "# cosineDistanceMatrix.shape\n"
      ],
      "execution_count": null,
      "outputs": []
    },
    {
      "cell_type": "code",
      "metadata": {
        "id": "DJXBNE2HiwmA"
      },
      "source": [
        "\n",
        "def manhattanDistance(totalHistograms):\n",
        "  for i in range(totalHistograms.shape[0]):\n",
        "      for j in range(totalHistograms.shape[0]):\n",
        "        DistanceMatrix[i,j]= fastdist.cityblock(totalHistograms[i],totalHistograms[j])      \n",
        "\n",
        "# manhattanDistance(totalHistograms)\n",
        "# manhattanDistanceMatrix.shape\n"
      ],
      "execution_count": null,
      "outputs": []
    },
    {
      "cell_type": "code",
      "metadata": {
        "id": "S_IFZQ035TKq"
      },
      "source": [
        "def makeDistance(distanceMode):\n",
        "  if (distanceMode == 0):\n",
        "    euclideanDistanceDistance(totalHistograms)\n",
        "  if (distanceMode == 1):\n",
        "    cosineDistance(totalHistograms)\n",
        "  if (distanceMode == 2):\n",
        "    manhattanDistance(totalHistograms)\n"
      ],
      "execution_count": null,
      "outputs": []
    },
    {
      "cell_type": "code",
      "metadata": {
        "colab": {
          "base_uri": "https://localhost:8080/"
        },
        "id": "8E2p63uL8OkP",
        "outputId": "524e159e-c45a-4c77-e464-203135af230e"
      },
      "source": [
        "\n",
        "DistanceMatrix.shape"
      ],
      "execution_count": null,
      "outputs": [
        {
          "output_type": "stream",
          "text": [
            "euclidean ==> 0 |  cosine ==> 1 | manhattan ==> 2   1\n"
          ],
          "name": "stdout"
        },
        {
          "output_type": "execute_result",
          "data": {
            "text/plain": [
              "0.836850331122533"
            ]
          },
          "metadata": {
            "tags": []
          },
          "execution_count": 19
        }
      ]
    },
    {
      "cell_type": "code",
      "metadata": {
        "id": "B_oyTW_EkgMD"
      },
      "source": [
        ""
      ],
      "execution_count": null,
      "outputs": []
    },
    {
      "cell_type": "code",
      "metadata": {
        "id": "Yx1ct4nPqsZy"
      },
      "source": [
        "def findMostDiffrentImage(topImages , index ,distance):\n",
        "   indexOfMaxDistance =  topImages[1].argmax(axis=0)\n",
        "   if(distance <= topImages[1][indexOfMaxDistance]):\n",
        "     topImages[1][indexOfMaxDistance] =  distance\n",
        "     topImages[0][indexOfMaxDistance] =  index\n",
        "\n",
        "\n",
        "\n"
      ],
      "execution_count": null,
      "outputs": []
    },
    {
      "cell_type": "code",
      "metadata": {
        "colab": {
          "base_uri": "https://localhost:8080/"
        },
        "id": "QwCunaSv_DOZ",
        "outputId": "07160591-3535-46c6-b191-2329dcd13e1d"
      },
      "source": [
        "distanceMode = input(\"euclidean ==> 0 |  cosine ==> 1 | manhattan ==> 2   \")\n",
        "makeDistance(int(distanceMode))\n",
        "embedding = MDS(n_components=10)\n",
        "V = embedding.fit_transform(DistanceMatrix)\n",
        "V.shape\n"
      ],
      "execution_count": null,
      "outputs": [
        {
          "output_type": "stream",
          "text": [
            "euclidean ==> 0 |  cosine ==> 1 | manhattan ==> 2   1\n"
          ],
          "name": "stdout"
        },
        {
          "output_type": "stream",
          "text": [
            "/usr/local/lib/python3.7/dist-packages/sklearn/manifold/_mds.py:419: UserWarning: The MDS API has changed. ``fit`` now constructs an dissimilarity matrix from data. To use a custom dissimilarity matrix, set ``dissimilarity='precomputed'``.\n",
            "  warnings.warn(\"The MDS API has changed. ``fit`` now constructs an\"\n"
          ],
          "name": "stderr"
        },
        {
          "output_type": "execute_result",
          "data": {
            "text/plain": [
              "(5063, 10)"
            ]
          },
          "metadata": {
            "tags": []
          },
          "execution_count": 23
        }
      ]
    },
    {
      "cell_type": "code",
      "metadata": {
        "colab": {
          "base_uri": "https://localhost:8080/"
        },
        "id": "IjmoxFTMBz1M",
        "outputId": "bc3033d2-c909-470b-8416-7307ae5cfe53"
      },
      "source": [
        "inputType = int(input(\"existing image ==> 0 |  new image ==> 1     \"))\n",
        "distanceMode1 = int(input(\"euclidean ==> 0 |  cosine ==> 1 | manhattan ==> 2    \"))\n",
        "NUMBER_OF_TOP_IMAGES = 20\n",
        "topImages = np.ones((2, NUMBER_OF_TOP_IMAGES)) * np.inf\n",
        "\n",
        "if (inputType == 0):\n",
        "  userInput = int(input(\"enter number of image    \"))\n",
        "  for i in range(0,V.shape[0]):\n",
        "    if userInput == i :\n",
        "      continue\n",
        "    else:\n",
        "      if (distanceMode1 == 0):\n",
        "         idist = fastdist.euclidean(V[i],V[userInput] )\n",
        "      if (distanceMode1 == 1):\n",
        "         idist =1 - fastdist.cosine(V[i],V[userInput] )\n",
        "      if (distanceMode1 == 2):\n",
        "         idist =fastdist.cityblock(V[i],V[userInput] )\n",
        "      findMostDiffrentImage(topImages , i , idist)\n",
        "if (inputType == 1):\n",
        "    userImageName = input(\"enter name of image :     \")\n",
        "    image= cv2.imread(\"userImage/\"+userImageName)\n",
        "    userImageHistogram = makeHistogram(image)\n",
        "    for i in range(0,totalHistograms.shape[0]):\n",
        "      if (distanceMode1 == 0):\n",
        "         idist = fastdist.euclidean(userImageHistogram , totalHistograms[i] )\n",
        "      if (distanceMode1 == 1):\n",
        "         idist = 1 - fastdist.cosine(userImageHistogram , totalHistograms[i] )\n",
        "      if (distanceMode1 == 2):\n",
        "         idist =fastdist.cityblock(userImageHistogram , totalHistograms[i] )\n",
        "      findMostDiffrentImage(topImages , i , idist)"
      ],
      "execution_count": 72,
      "outputs": [
        {
          "output_type": "stream",
          "text": [
            "existing image ==> 0 |  new image ==> 1     0\n",
            "euclidean ==> 0 |  cosine ==> 1 | manhattan ==> 2    0\n",
            "enter number of image    4800\n"
          ],
          "name": "stdout"
        }
      ]
    },
    {
      "cell_type": "code",
      "metadata": {
        "id": "9XefJTPc_sxH"
      },
      "source": [
        "if (inputType == 0):\n",
        "    display(image1(filenames[userInput]))\n",
        "if (inputType == 1):\n",
        "    display(image1(\"userImage/\" + userImageName))"
      ],
      "execution_count": null,
      "outputs": []
    },
    {
      "cell_type": "code",
      "metadata": {
        "id": "BVwDfquZNvcf"
      },
      "source": [
        "for i in range(0,NUMBER_OF_TOP_IMAGES):\n",
        "  display(image1(filenames[int(topImages[0][i])]))"
      ],
      "execution_count": null,
      "outputs": []
    },
    {
      "cell_type": "code",
      "metadata": {
        "colab": {
          "base_uri": "https://localhost:8080/"
        },
        "id": "oE6YbcRUSbTc",
        "outputId": "dd63ef11-a281-423d-d982-b9c8fa51b2d7"
      },
      "source": [
        "topImages"
      ],
      "execution_count": null,
      "outputs": [
        {
          "output_type": "execute_result",
          "data": {
            "text/plain": [
              "array([[4.45900000e+03, 4.90000000e+03, 3.55100000e+03, 3.60000000e+02,\n",
              "        4.17500000e+03, 3.51000000e+02, 4.46000000e+03, 1.71500000e+03,\n",
              "        3.54500000e+03, 2.73000000e+03],\n",
              "       [2.17724326e-01, 2.23757879e-01, 9.56925928e-02, 1.98246897e-01,\n",
              "        1.91836464e-01, 1.39477229e-01, 2.21538423e-01, 2.17421525e-01,\n",
              "        2.27761964e-01, 1.99408593e-01]])"
            ]
          },
          "metadata": {
            "tags": []
          },
          "execution_count": 64
        }
      ]
    }
  ]
}